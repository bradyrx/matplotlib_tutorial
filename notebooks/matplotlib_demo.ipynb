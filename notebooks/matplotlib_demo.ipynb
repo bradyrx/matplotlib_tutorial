{
 "cells": [
  {
   "cell_type": "markdown",
   "metadata": {},
   "source": [
    "# Matplotlib Demo\n",
    "\n",
    "---\n",
    "\n",
    "Author: Riley X. Brady\n",
    "Date: February 6th, 2019\n",
    "Contact: riley.brady@colorado.edu\n",
    "\n",
    "---\n",
    "\n",
    "`matplotlib` is a powerful package for making static publication-quality graphics.\n",
    "\n",
    "## References\n",
    "\n",
    "1. [matplotlib example gallery](https://matplotlib.org/gallery/index.html)\n",
    "2. [matplotlib style sheets reference](https://matplotlib.org/gallery/style_sheets/style_sheets_reference.html)\n",
    "3. [markers](https://matplotlib.org/api/markers_api.html#module-matplotlib.markers)\n",
    "4. [line styles](https://matplotlib.org/api/_as_gen/matplotlib.lines.Line2D.html#matplotlib.lines.Line2D.set_linestyle)\n",
    "\n",
    "## Other Tutorials\n",
    "\n",
    "1. [Effectively Using Matplotlib](http://pbpython.com/effective-matplotlib.html?utm_campaign=Data_Elixir&utm_medium=email&utm_source=Data_Elixir_129)\n",
    "2. [Python Plotting with Matplotlib](https://realpython.com/python-matplotlib-guide/)"
   ]
  },
  {
   "cell_type": "code",
   "execution_count": null,
   "metadata": {
    "ExecuteTime": {
     "end_time": "2019-02-05T21:59:05.938030Z",
     "start_time": "2019-02-05T21:59:05.934370Z"
    }
   },
   "outputs": [],
   "source": [
    "import numpy as np\n",
    "\n",
    "# matplotlib imports\n",
    "import matplotlib.pyplot as plt\n",
    "# needed for Jupyter notebooks.\n",
    "%matplotlib inline "
   ]
  },
  {
   "cell_type": "markdown",
   "metadata": {},
   "source": [
    "## Setting up your plot\n",
    "\n",
    "---\n",
    "\n",
    "The matplotlib [figure](https://matplotlib.org/api/_as_gen/matplotlib.pyplot.figure.html) object incorporates the whole window in the user interface. You can just have one plot (e.g., a line plot) in your figure object, or you could have multiple *subplots*. However, to me, the base figure object is unnecessary. In the below example, you have to create a figure object, then a subplot object."
   ]
  },
  {
   "cell_type": "code",
   "execution_count": null,
   "metadata": {
    "ExecuteTime": {
     "end_time": "2019-02-05T22:13:36.656644Z",
     "start_time": "2019-02-05T22:13:36.547662Z"
    }
   },
   "outputs": [],
   "source": [
    "f = plt.figure(figsize=(8,6))\n",
    "plt.subplot()"
   ]
  },
  {
   "cell_type": "markdown",
   "metadata": {},
   "source": [
    "I prefer the [subplots](https://matplotlib.org/api/_as_gen/matplotlib.pyplot.subplots.html) command which returns both figure and axes objects, making things a bit easier. My advice: always start your figures with `plt.subplots()`.\n",
    "\n",
    "There are plenty of powerful alternatives to aid in making complex subplot arrays, such as [gridspec](https://matplotlib.org/users/gridspec.html)."
   ]
  },
  {
   "cell_type": "code",
   "execution_count": null,
   "metadata": {
    "ExecuteTime": {
     "end_time": "2019-02-05T22:13:37.712889Z",
     "start_time": "2019-02-05T22:13:37.586537Z"
    }
   },
   "outputs": [],
   "source": [
    "# A single plot. 'fig' controls figure properties; 'ax' control axis properties.\n",
    "fig, ax = plt.subplots()"
   ]
  },
  {
   "cell_type": "code",
   "execution_count": null,
   "metadata": {
    "ExecuteTime": {
     "end_time": "2019-02-05T22:13:55.205216Z",
     "start_time": "2019-02-05T22:13:54.883426Z"
    }
   },
   "outputs": [],
   "source": [
    "fig, ax = plt.subplots(figsize=(12,8), nrows=2, ncols=2)"
   ]
  },
  {
   "cell_type": "markdown",
   "metadata": {},
   "source": [
    "## Line Plots\n",
    "\n",
    "---\n",
    "\n",
    "The `plot` method plots a simple line plot. It expects at the least a list or array of time series values:\n",
    "\n",
    "```python\n",
    "x = np.linspace(-np.pi, np.pi, 64, endpoint=True)\n",
    "y = np.cos(x)\n",
    "plt.plot(y)\n",
    "```\n",
    "\n",
    "You can also add on an x-axis:\n",
    "\n",
    "```python\n",
    "x = np.linspace(-np.pi, np.pi, 64, endpoint=True)\n",
    "y = np.cos(x)\n",
    "plt.plot(x, y)\n",
    "```\n",
    "\n",
    "Note that `scatter` is quite similar and produces a scatter plot. It won't be covered here, but you can find the documentation [here](https://matplotlib.org/api/_as_gen/matplotlib.axes.Axes.scatter.html#matplotlib.axes.Axes.scatter)."
   ]
  },
  {
   "cell_type": "code",
   "execution_count": null,
   "metadata": {
    "ExecuteTime": {
     "end_time": "2019-02-05T22:21:02.895609Z",
     "start_time": "2019-02-05T22:21:02.892730Z"
    }
   },
   "outputs": [],
   "source": [
    "# generate data\n",
    "X = np.linspace(-np.pi, np.pi, 64, endpoint=True)\n",
    "C, S = np.cos(X), np.sin(X)"
   ]
  },
  {
   "cell_type": "markdown",
   "metadata": {},
   "source": [
    "### Default Line Plot"
   ]
  },
  {
   "cell_type": "code",
   "execution_count": null,
   "metadata": {
    "ExecuteTime": {
     "end_time": "2019-02-05T22:21:03.621508Z",
     "start_time": "2019-02-05T22:21:03.500956Z"
    }
   },
   "outputs": [],
   "source": [
    "fig, ax = plt.subplots()\n",
    "# It's a good habit to tell matplotlib exactly which axis you're plotting on\n",
    "ax.plot(X, C)\n",
    "ax.plot(X, S)"
   ]
  },
  {
   "cell_type": "code",
   "execution_count": null,
   "metadata": {
    "ExecuteTime": {
     "end_time": "2019-02-05T22:21:04.210228Z",
     "start_time": "2019-02-05T22:21:04.061641Z"
    }
   },
   "outputs": [],
   "source": [
    "fig, ax = plt.subplots(figsize=(8,3), ncols=2, sharex=True,\n",
    "                       sharey=True)\n",
    "# subplots are indexed. if you have both columns and rows,\n",
    "# you would index like ax[0,0,], ax[0,1] and so on.\n",
    "ax[0].plot(X, C)\n",
    "ax[1].plot(X, S)"
   ]
  },
  {
   "cell_type": "markdown",
   "metadata": {},
   "source": [
    "### Now with a legend!"
   ]
  },
  {
   "cell_type": "code",
   "execution_count": null,
   "metadata": {
    "ExecuteTime": {
     "end_time": "2019-02-05T22:21:05.453179Z",
     "start_time": "2019-02-05T22:21:05.316780Z"
    }
   },
   "outputs": [],
   "source": [
    "fig, ax = plt.subplots()\n",
    "ax.plot(X, C, label='cosine')\n",
    "ax.plot(X, S, label='sine')\n",
    "ax.legend()"
   ]
  },
  {
   "cell_type": "markdown",
   "metadata": {},
   "source": [
    "### Line plot aesthetics\n",
    "\n",
    "---\n",
    "\n",
    "These principles apply to most plot types for `matplotlib`. You will get an intuition as to when you can use certain keywords.\n",
    "\n",
    "#### Keywords:\n",
    "\n",
    "**color**: (string) color of the line\n",
    "\n",
    "**linewidth**: (integer) width of line\n",
    "\n",
    "**linestyle**: (string) style of line to be plotted\n",
    "\n",
    "**marker**: (string) type of marker to plot over line ([reference](https://matplotlib.org/api/markers_api.html#module-matplotlib.markers))"
   ]
  },
  {
   "cell_type": "code",
   "execution_count": null,
   "metadata": {
    "ExecuteTime": {
     "end_time": "2019-02-05T22:23:20.237054Z",
     "start_time": "2019-02-05T22:23:20.101525Z"
    }
   },
   "outputs": [],
   "source": [
    "fig, ax = plt.subplots()\n",
    "ax.plot(X, C, label='cosine', linewidth=3)\n",
    "ax.plot(X, S, label='sine', linestyle='-.', color='red')\n",
    "ax.legend()"
   ]
  },
  {
   "cell_type": "code",
   "execution_count": null,
   "metadata": {
    "ExecuteTime": {
     "end_time": "2019-02-05T22:22:53.468849Z",
     "start_time": "2019-02-05T22:22:53.330673Z"
    }
   },
   "outputs": [],
   "source": [
    "fig, ax = plt.subplots()\n",
    "ax.plot(X, C, label='cosine', linewidth=1, marker='*')\n",
    "ax.plot(X, S, label='sine', linestyle='--', marker='s', markersize=4)\n",
    "ax.legend()"
   ]
  },
  {
   "cell_type": "markdown",
   "metadata": {},
   "source": [
    "## Axes and Labeling\n",
    "\n",
    "---\n",
    "\n",
    "We've looked so far at the actual content of our plots. After making a figure/subplot, we have filled it with line plots and played around with their aesthetics. But how do we alter the axes around them?\n",
    "\n",
    "We can pass commands to our `ax` object that came out of `plt.subplots`. These generally take the format of `ax.set_PROP()` where `PROP()` is some property.\n",
    "\n",
    "**Properties**:\n",
    "\n",
    "* xlim, ylim : the range of the x and y axes. Expects brackets with comma-separated values.\n",
    "* title : the title of the subplot. Expects a string.\n",
    "* xlabel, ylabel : labels for the x and y axes. Expects a string.\n",
    "* xticks, yticks : which ticks to show. Expects a list of values.\n",
    "* xticklabels, yticklabels: what to label the ticks with. Expects a list of strings of the same length as xticks/yticks.\n",
    "\n",
    "And [many many more](https://matplotlib.org/api/axes_api.html). "
   ]
  },
  {
   "cell_type": "code",
   "execution_count": null,
   "metadata": {
    "ExecuteTime": {
     "end_time": "2019-02-05T22:35:21.456190Z",
     "start_time": "2019-02-05T22:35:21.452895Z"
    }
   },
   "outputs": [],
   "source": [
    "# Generate some time series with a linear trend and some noise.\n",
    "x = np.arange(0, 100)\n",
    "y = np.linspace(0, 2, 100) + np.random.rand(100,)"
   ]
  },
  {
   "cell_type": "code",
   "execution_count": null,
   "metadata": {
    "ExecuteTime": {
     "end_time": "2019-02-05T22:41:13.846524Z",
     "start_time": "2019-02-05T22:41:13.762890Z"
    }
   },
   "outputs": [],
   "source": [
    "fig, ax = plt.subplots()\n",
    "ax.plot(x, y, linewidth=2, color='#a9a9a9', marker='o', markersize=4)\n",
    "\n",
    "# axes changes. Lots of MATLAB conventions here, if you're comfortable\n",
    "# with that.\n",
    "ax.set_xlim([0, 100])\n",
    "ax.set_ylim([0, 4])\n",
    "ax.set_title('Random Signal', fontsize=18)\n",
    "ax.set_ylabel('Magnitude', fontsize=12)\n",
    "ax.set_xlabel('Time', fontsize=12)\n",
    "\n",
    "# ticks\n",
    "ax.set_xticks([0,25,50,75,100])\n",
    "ax.set_yticks([0,1,2,3,4])\n",
    "ax.set_xticklabels(['Jan', 'Mar', 'Jun', 'Sep', 'Dec'])\n",
    "\n",
    "# spines\n",
    "ax.spines['top'].set_color('none')\n",
    "ax.spines['right'].set_color('none')"
   ]
  },
  {
   "cell_type": "markdown",
   "metadata": {},
   "source": [
    "## Style Sheets\n",
    "\n",
    "---\n",
    "\n",
    "It's definitely tedious to change plot styles every single time you make a plot (it takes a lot of lines of code!). There is a nice work around with \"style sheets.\" There's a bunch of out-of-the-box ones that make your plots look great. If you're really into it, you can make your own: https://matplotlib.org/users/style_sheets.html"
   ]
  },
  {
   "cell_type": "code",
   "execution_count": null,
   "metadata": {
    "ExecuteTime": {
     "end_time": "2019-02-05T22:59:34.026264Z",
     "start_time": "2019-02-05T22:59:34.022822Z"
    }
   },
   "outputs": [],
   "source": [
    "plt.style.available"
   ]
  },
  {
   "cell_type": "code",
   "execution_count": null,
   "metadata": {
    "ExecuteTime": {
     "end_time": "2019-02-05T23:00:01.976006Z",
     "start_time": "2019-02-05T23:00:01.870107Z"
    }
   },
   "outputs": [],
   "source": [
    "plt.style.use('fivethirtyeight')\n",
    "fig, ax = plt.subplots()\n",
    "ax.plot(x, y)"
   ]
  },
  {
   "cell_type": "code",
   "execution_count": null,
   "metadata": {
    "ExecuteTime": {
     "end_time": "2019-02-05T23:00:02.742458Z",
     "start_time": "2019-02-05T23:00:02.636875Z"
    }
   },
   "outputs": [],
   "source": [
    "plt.style.use('ggplot')\n",
    "fig, ax = plt.subplots()\n",
    "ax.plot(x, y)"
   ]
  },
  {
   "cell_type": "code",
   "execution_count": null,
   "metadata": {
    "ExecuteTime": {
     "end_time": "2019-02-05T23:00:33.477677Z",
     "start_time": "2019-02-05T23:00:33.364906Z"
    }
   },
   "outputs": [],
   "source": [
    "plt.style.use('Solarize_Light2')\n",
    "fig, ax = plt.subplots()\n",
    "ax.plot(x, y)"
   ]
  },
  {
   "cell_type": "code",
   "execution_count": null,
   "metadata": {
    "ExecuteTime": {
     "end_time": "2019-02-05T23:00:43.948156Z",
     "start_time": "2019-02-05T23:00:43.945295Z"
    }
   },
   "outputs": [],
   "source": [
    "plt.style.use('default')"
   ]
  },
  {
   "cell_type": "markdown",
   "metadata": {},
   "source": [
    "## Meshes\n",
    "\n",
    "---\n",
    "\n",
    "In climate research, we work a lot with grids of data. Something like sea surface temperature (SST) could have dimensions (time, latitude, longitude). Other variables have depth components. We can visualize these with `pcolor`, `pcolormesh`, `contour`, and `contourf`. I'll cover the `pcolormesh` object here.\n",
    "\n",
    "My example dataset here is sea surface temperatures from 1970-1980 in the Community Earth System Model (CESM) for a single simulation."
   ]
  },
  {
   "cell_type": "code",
   "execution_count": null,
   "metadata": {
    "ExecuteTime": {
     "end_time": "2019-02-05T23:08:21.558178Z",
     "start_time": "2019-02-05T23:08:21.556010Z"
    }
   },
   "outputs": [],
   "source": [
    "import xarray as xr"
   ]
  },
  {
   "cell_type": "markdown",
   "metadata": {},
   "source": [
    "Dimensions here are 372 (months) by 384 (latitude) by 320 (longitude)"
   ]
  },
  {
   "cell_type": "code",
   "execution_count": null,
   "metadata": {
    "ExecuteTime": {
     "end_time": "2019-02-05T23:09:55.615635Z",
     "start_time": "2019-02-05T23:09:55.562348Z"
    }
   },
   "outputs": [],
   "source": [
    "data = xr.open_dataset('../data/CESM.003.SST.1980.nc')\n",
    "lat = np.array(data.lat)\n",
    "lon = np.array(data.lon)\n",
    "data = np.array(data.SST)"
   ]
  },
  {
   "cell_type": "code",
   "execution_count": null,
   "metadata": {
    "ExecuteTime": {
     "end_time": "2019-02-05T23:10:13.183307Z",
     "start_time": "2019-02-05T23:10:13.169609Z"
    }
   },
   "outputs": [],
   "source": [
    "# the dimensions are 12 months x 180 latitude x 360 longitude\n",
    "data.shape\n",
    "# take mean over the year.\n",
    "meandata = np.mean(data, axis=0)\n",
    "# monthly anomalies from the annual mean. Not really any useful scientifically,\n",
    "# but to demo diverging colormaps. This truly shows the seasonal cycle.\n",
    "anom = data - meandata"
   ]
  },
  {
   "cell_type": "markdown",
   "metadata": {},
   "source": [
    "### Basic pcolor map\n",
    "\n",
    "---\n",
    "\n",
    "It's almost always best to use `ax.pcolormesh` as it is a much faster version of `ax.pcolor`. If you are just plotting a region of the globe, you can use `ax.pcolor`. "
   ]
  },
  {
   "cell_type": "code",
   "execution_count": null,
   "metadata": {
    "ExecuteTime": {
     "end_time": "2019-02-05T23:10:23.003044Z",
     "start_time": "2019-02-05T23:10:22.778403Z"
    }
   },
   "outputs": [],
   "source": [
    "fig, ax = plt.subplots()\n",
    "ax.pcolormesh(lon, lat, meandata)"
   ]
  },
  {
   "cell_type": "markdown",
   "metadata": {},
   "source": [
    "### Add a colorbar"
   ]
  },
  {
   "cell_type": "code",
   "execution_count": null,
   "metadata": {
    "ExecuteTime": {
     "end_time": "2019-02-05T23:10:27.379401Z",
     "start_time": "2019-02-05T23:10:27.083821Z"
    }
   },
   "outputs": [],
   "source": [
    "fig, ax = plt.subplots()\n",
    "p = ax.pcolormesh(lon, lat, meandata)\n",
    "cb = plt.colorbar(p)\n",
    "\n",
    "# Aesthetics\n",
    "cb.set_label('Sea Surface Temperature [$^{o}$C]')\n",
    "ax.set_title('CESM Sea Surface Temperature (1970-1980)')\n",
    "ax.set_ylabel('Latitude')\n",
    "ax.set_xlabel('Longitude')"
   ]
  },
  {
   "cell_type": "markdown",
   "metadata": {},
   "source": [
    "### Play with colormaps :)\n",
    "\n",
    "Just insert a string from below! You can do `CMAP_r` to reverse the colors, like `RdBu_r`\n",
    "\n",
    "The full colormap reference is here: https://matplotlib.org/examples/color/colormaps_reference.html\n",
    "\n",
    "![](https://i.imgur.com/pcw5QyA.png)\n",
    "![](https://i.imgur.com/S3rSvag.png)\n",
    "![](https://i.imgur.com/fX9oF78.png)\n",
    "![](https://i.imgur.com/r2ssLP7.png)"
   ]
  },
  {
   "cell_type": "code",
   "execution_count": null,
   "metadata": {
    "ExecuteTime": {
     "end_time": "2019-02-05T23:10:31.892561Z",
     "start_time": "2019-02-05T23:10:31.466251Z"
    }
   },
   "outputs": [],
   "source": [
    "fig, ax = plt.subplots()\n",
    "p = ax.pcolormesh(lon, lat, meandata, cmap=\"autumn_r\",\n",
    "                  vmin=-2, vmax=30)\n",
    "cb = plt.colorbar(p, extend=\"both\")\n",
    "\n",
    "# Aesthetics\n",
    "cb.set_label('Sea Surface Temperature [$^{o}$C]')\n",
    "ax.set_title('CESM Sea Surface Temperature (1980)')\n",
    "ax.set_ylabel('Latitude')\n",
    "ax.set_xlabel('Longitude')"
   ]
  },
  {
   "cell_type": "code",
   "execution_count": null,
   "metadata": {
    "ExecuteTime": {
     "end_time": "2019-02-05T23:10:49.831384Z",
     "start_time": "2019-02-05T23:10:49.537775Z"
    }
   },
   "outputs": [],
   "source": [
    "fig, ax = plt.subplots()\n",
    "p = ax.pcolormesh(lon, lat, anom[10], cmap=\"RdBu_r\")\n",
    "cb = plt.colorbar(p, extend=\"both\")\n",
    "\n",
    "# Aesthetics\n",
    "cb.set_label('Sea Surface Temperature Anomaly [$^{o}$C]')\n",
    "ax.set_title('CESM November SST Deviation \\n from Annual Mean (1980)')\n",
    "ax.set_ylabel('Latitude')\n",
    "ax.set_xlabel('Longitude')"
   ]
  },
  {
   "cell_type": "markdown",
   "metadata": {},
   "source": [
    "## Geography\n",
    "\n",
    "The plots above are a decent first glance at the data, but aren't good in terms of cartography. Luckily we have a package for that!\n",
    "\n",
    "This serves just as a very simple high-level demo of what cartopy can do to improve upon matplotlib. See their [website](https://scitools.org.uk/cartopy/docs/latest/) for tons of demos and information."
   ]
  },
  {
   "cell_type": "code",
   "execution_count": null,
   "metadata": {
    "ExecuteTime": {
     "end_time": "2019-02-05T23:14:36.954471Z",
     "start_time": "2019-02-05T23:14:36.952257Z"
    }
   },
   "outputs": [],
   "source": [
    "import cartopy.crs as ccrs\n",
    "import cartopy.feature as cfeature\n",
    "from cartopy.util import add_cyclic_point"
   ]
  },
  {
   "cell_type": "code",
   "execution_count": null,
   "metadata": {
    "ExecuteTime": {
     "end_time": "2019-02-05T23:13:27.407246Z",
     "start_time": "2019-02-05T23:13:25.360214Z"
    }
   },
   "outputs": [],
   "source": [
    "fig, ax = plt.subplots(subplot_kw=dict(projection=ccrs.Robinson()))\n",
    "ax.add_feature(cfeature.LAND, color='k')\n",
    "ax.pcolormesh(lon, lat, meandata, transform=ccrs.PlateCarree())"
   ]
  },
  {
   "cell_type": "markdown",
   "metadata": {},
   "source": [
    "Note that the \"seam\" issue is common. Cartopy has a workaround to make sure you don't have a visible seem where your data wraps around."
   ]
  },
  {
   "cell_type": "code",
   "execution_count": null,
   "metadata": {
    "ExecuteTime": {
     "end_time": "2019-02-05T23:15:01.642422Z",
     "start_time": "2019-02-05T23:15:01.639321Z"
    }
   },
   "outputs": [],
   "source": [
    "cyclic_data, cyclic_lons = add_cyclic_point(meandata, coord=lon)"
   ]
  },
  {
   "cell_type": "code",
   "execution_count": null,
   "metadata": {
    "ExecuteTime": {
     "end_time": "2019-02-05T23:16:10.251874Z",
     "start_time": "2019-02-05T23:16:07.806568Z"
    }
   },
   "outputs": [],
   "source": [
    "fig, ax = plt.subplots(subplot_kw=dict(projection=ccrs.Robinson()))\n",
    "ax.add_feature(cfeature.LAND, color='k')\n",
    "p = ax.pcolormesh(cyclic_lons, lat, cyclic_data, transform=ccrs.PlateCarree(),\n",
    "                  cmap=\"plasma\")\n",
    "plt.colorbar(p, orientation='horizontal', pad=0.05, fraction=0.05,\n",
    "             extend=\"both\")"
   ]
  },
  {
   "cell_type": "markdown",
   "metadata": {},
   "source": [
    "All sorts of projections!"
   ]
  },
  {
   "cell_type": "code",
   "execution_count": null,
   "metadata": {
    "ExecuteTime": {
     "end_time": "2019-02-05T23:19:18.847202Z",
     "start_time": "2019-02-05T23:19:18.572276Z"
    }
   },
   "outputs": [],
   "source": [
    "fig, ax = plt.subplots(subplot_kw=dict(projection=ccrs.Geostationary()))\n",
    "p = ax.pcolormesh(cyclic_lons, lat, cyclic_data, transform=ccrs.PlateCarree(),\n",
    "                  cmap=\"plasma\")\n",
    "# sometimes you need to invoke zorder to layer things on top of each other\n",
    "ax.add_feature(cfeature.LAND, color='k', zorder=4)\n",
    "plt.colorbar(p, orientation='horizontal', pad=0.05, fraction=0.05,\n",
    "             extend=\"both\")"
   ]
  },
  {
   "cell_type": "markdown",
   "metadata": {},
   "source": [
    "Gridlines! (https://scitools.org.uk/cartopy/docs/v0.13/matplotlib/gridliner.html)"
   ]
  },
  {
   "cell_type": "code",
   "execution_count": null,
   "metadata": {
    "ExecuteTime": {
     "end_time": "2019-02-05T23:20:41.963415Z",
     "start_time": "2019-02-05T23:20:41.660448Z"
    }
   },
   "outputs": [],
   "source": [
    "fig, ax = plt.subplots(subplot_kw=dict(projection=ccrs.Geostationary()))\n",
    "p = ax.pcolormesh(cyclic_lons, lat, cyclic_data, transform=ccrs.PlateCarree(),\n",
    "                  cmap=\"plasma\")\n",
    "# sometimes you need to invoke zorder to layer things on top of each other\n",
    "ax.add_feature(cfeature.LAND, color='k', zorder=4)\n",
    "plt.colorbar(p, orientation='horizontal', pad=0.05, fraction=0.05,\n",
    "             extend=\"both\")\n",
    "\n",
    "# grid lines\n",
    "gl = ax.gridlines(crs=ccrs.PlateCarree(), draw_labels=False,\n",
    "                  linewidth=1.5, color='gray', linestyle='-')"
   ]
  },
  {
   "cell_type": "markdown",
   "metadata": {},
   "source": [
    "Note that currently, grid line labeling only works for Mercator and Plate Carree. `basemap` is a useful alternative package to get grid line labeling, but they aren't under ongoing development anymore."
   ]
  },
  {
   "cell_type": "code",
   "execution_count": null,
   "metadata": {
    "ExecuteTime": {
     "end_time": "2019-02-05T23:22:01.056324Z",
     "start_time": "2019-02-05T23:22:00.617925Z"
    }
   },
   "outputs": [],
   "source": [
    "from cartopy.mpl.gridliner import LONGITUDE_FORMATTER, LATITUDE_FORMATTER\n",
    "fig, ax = plt.subplots(subplot_kw=dict(projection=ccrs.PlateCarree()))\n",
    "p = ax.pcolormesh(cyclic_lons, lat, cyclic_data, transform=ccrs.PlateCarree(),\n",
    "                  cmap=\"plasma\")\n",
    "# sometimes you need to invoke zorder to layer things on top of each other\n",
    "ax.add_feature(cfeature.LAND, color='k', zorder=4)\n",
    "plt.colorbar(p, orientation='horizontal', pad=0.05, fraction=0.05,\n",
    "             extend=\"both\")\n",
    "\n",
    "# grid lines\n",
    "gl = ax.gridlines(crs=ccrs.PlateCarree(), draw_labels=True,\n",
    "                  linewidth=1.5, color='gray', linestyle='--')\n",
    "gl.xlabels_bottom = False\n",
    "gl.ylabels_left = False\n",
    "gl.xformatter = LONGITUDE_FORMATTER\n",
    "gl.yformatter = LATITUDE_FORMATTER"
   ]
  }
 ],
 "metadata": {
  "kernelspec": {
   "display_name": "Python 3",
   "language": "python",
   "name": "python3"
  },
  "language_info": {
   "codemirror_mode": {
    "name": "ipython",
    "version": 3
   },
   "file_extension": ".py",
   "mimetype": "text/x-python",
   "name": "python",
   "nbconvert_exporter": "python",
   "pygments_lexer": "ipython3",
   "version": "3.6.7"
  },
  "toc": {
   "base_numbering": 1,
   "nav_menu": {},
   "number_sections": true,
   "sideBar": true,
   "skip_h1_title": false,
   "title_cell": "Table of Contents",
   "title_sidebar": "Contents",
   "toc_cell": false,
   "toc_position": {},
   "toc_section_display": true,
   "toc_window_display": false
  },
  "varInspector": {
   "cols": {
    "lenName": 16,
    "lenType": 16,
    "lenVar": 40
   },
   "kernels_config": {
    "python": {
     "delete_cmd_postfix": "",
     "delete_cmd_prefix": "del ",
     "library": "var_list.py",
     "varRefreshCmd": "print(var_dic_list())"
    },
    "r": {
     "delete_cmd_postfix": ") ",
     "delete_cmd_prefix": "rm(",
     "library": "var_list.r",
     "varRefreshCmd": "cat(var_dic_list()) "
    }
   },
   "types_to_exclude": [
    "module",
    "function",
    "builtin_function_or_method",
    "instance",
    "_Feature"
   ],
   "window_display": false
  }
 },
 "nbformat": 4,
 "nbformat_minor": 2
}
